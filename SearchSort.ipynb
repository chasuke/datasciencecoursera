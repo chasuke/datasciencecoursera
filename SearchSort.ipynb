{
  "nbformat": 4,
  "nbformat_minor": 0,
  "metadata": {
    "colab": {
      "provenance": [],
      "authorship_tag": "ABX9TyP3LoZyw1GkcGk7chIldMu4",
      "include_colab_link": true
    },
    "kernelspec": {
      "name": "python3",
      "display_name": "Python 3"
    },
    "language_info": {
      "name": "python"
    }
  },
  "cells": [
    {
      "cell_type": "markdown",
      "metadata": {
        "id": "view-in-github",
        "colab_type": "text"
      },
      "source": [
        "<a href=\"https://colab.research.google.com/github/chasuke/datasciencecoursera/blob/master/SearchSort.ipynb\" target=\"_parent\"><img src=\"https://colab.research.google.com/assets/colab-badge.svg\" alt=\"Open In Colab\"/></a>"
      ]
    },
    {
      "cell_type": "markdown",
      "source": [
        "#検索\n"
      ],
      "metadata": {
        "id": "bjaXdHvvujY2"
      }
    },
    {
      "cell_type": "markdown",
      "source": [
        "#線形探索アルゴリズム\n",
        "　線形探索アルゴリズムを使用する、ランダムな数値の配列から特定の値を探索するプログラム\n",
        "　プログラムは各ステップごとに探索の進行状況を出力します。結果は以下の通りです：\n",
        "\n",
        "配列は [12, 83, 35, 26, 16, 53, 60, 2, 62, 91] となっています。\n",
        "探索対象の値 12 は配列の位置 0 で見つかりました。\n",
        "このプログラムは、線形探索のプロセスを可視化し、各ステップでどの要素が調べられているかを示しています。探索対象の値が見つかると、その位置情報とともに結果が出力されます。"
      ],
      "metadata": {
        "id": "g40cAIU3v9DF"
      }
    },
    {
      "cell_type": "code",
      "source": [
        "def linear_search_verbose(arr, x):\n",
        "    for i in range(len(arr)):\n",
        "        # 途中経過の出力\n",
        "        print(f\"ステップ {i+1}: 現在の要素は {arr[i]}\")\n",
        "        if arr[i] == x:\n",
        "            return f\"要素 {x} は位置 {i} で見つかりました。\"\n",
        "    return f\"要素 {x} は配列に存在しません。\"\n",
        "\n",
        "# ランダムな数値の配列を生成\n",
        "import random\n",
        "arr = random.sample(range(1, 100), 10) # 1から99の範囲でランダムな10個の数値\n",
        "\n",
        "# 探索する値\n",
        "x = random.choice(arr) # 配列からランダムに一つの値を選ぶ\n",
        "\n",
        "# リニアサーチの実行と結果の出力\n",
        "result = linear_search_verbose(arr, x)\n",
        "print(\"配列:\", arr)\n",
        "print(result)\n"
      ],
      "metadata": {
        "colab": {
          "base_uri": "https://localhost:8080/"
        },
        "id": "cBe_QWpav8x7",
        "outputId": "3e3ab0e2-425c-4166-f022-332dd45a1ace"
      },
      "execution_count": 8,
      "outputs": [
        {
          "output_type": "stream",
          "name": "stdout",
          "text": [
            "ステップ 1: 現在の要素は 9\n",
            "ステップ 2: 現在の要素は 33\n",
            "ステップ 3: 現在の要素は 37\n",
            "ステップ 4: 現在の要素は 36\n",
            "ステップ 5: 現在の要素は 7\n",
            "配列: [9, 33, 37, 36, 7, 26, 54, 42, 57, 73]\n",
            "要素 7 は位置 4 で見つかりました。\n"
          ]
        }
      ]
    },
    {
      "cell_type": "markdown",
      "source": [
        "#２分探索\n",
        "このプログラムは、ソートされたランダムな数値の配列を使用して特定の値を探し、探索の途中経過を出力します。"
      ],
      "metadata": {
        "id": "MFbIhA-NxYs0"
      }
    },
    {
      "cell_type": "code",
      "source": [
        "def binary_search_verbose(arr, x):\n",
        "    low = 0\n",
        "    high = len(arr) - 1\n",
        "    step = 0\n",
        "\n",
        "    while low <= high:\n",
        "        step += 1\n",
        "        mid = (low + high) // 2\n",
        "        # 途中経過の出力\n",
        "        print(f\"ステップ {step}: 現在の中間位置は {mid}, 探索範囲は {arr[low:high+1]}\")\n",
        "\n",
        "        if arr[mid] == x:\n",
        "            return f\"要素 {x} は位置 {mid} で見つかりました。\"\n",
        "        elif arr[mid] < x:\n",
        "            low = mid + 1\n",
        "        else:\n",
        "            high = mid - 1\n",
        "\n",
        "    return f\"要素 {x} は配列に存在しません。\"\n",
        "\n",
        "# ソートされたランダムな数値の配列を生成\n",
        "import random\n",
        "arr = sorted(random.sample(range(1, 100), 10))\n",
        "\n",
        "# 探索する値\n",
        "x = random.choice(arr) # 配列からランダムに一つの値を選ぶ\n",
        "\n",
        "# 二分探索の実行と結果の出力\n",
        "result = binary_search_verbose(arr, x)\n",
        "print(\"配列:\", arr)\n",
        "print(result)\n"
      ],
      "metadata": {
        "colab": {
          "base_uri": "https://localhost:8080/"
        },
        "id": "cwWBBSK_uqPc",
        "outputId": "e2b3c64b-04dc-4caf-cade-25ed14d875a7"
      },
      "execution_count": 15,
      "outputs": [
        {
          "output_type": "stream",
          "name": "stdout",
          "text": [
            "ステップ 1: 現在の中間位置は 4, 探索範囲は [4, 9, 16, 19, 20, 33, 44, 47, 54, 62]\n",
            "ステップ 2: 現在の中間位置は 7, 探索範囲は [33, 44, 47, 54, 62]\n",
            "ステップ 3: 現在の中間位置は 8, 探索範囲は [54, 62]\n",
            "配列: [4, 9, 16, 19, 20, 33, 44, 47, 54, 62]\n",
            "要素 54 は位置 8 で見つかりました。\n"
          ]
        }
      ]
    },
    {
      "cell_type": "markdown",
      "source": [
        "#バブルソートのPythonプログラム例"
      ],
      "metadata": {
        "id": "nlVoenWquYQ9"
      }
    },
    {
      "cell_type": "code",
      "execution_count": 1,
      "metadata": {
        "colab": {
          "base_uri": "https://localhost:8080/"
        },
        "id": "g9RNQ_7ZuTom",
        "outputId": "ca4c7c13-5de0-45c0-a649-f1deb2a6d3f5"
      },
      "outputs": [
        {
          "output_type": "stream",
          "name": "stdout",
          "text": [
            "ソートされた配列は:\n",
            "11 12 22 25 34 64 90 "
          ]
        }
      ],
      "source": [
        "def bubble_sort(arr):\n",
        "    n = len(arr)\n",
        "    for i in range(n):\n",
        "        # 既にソートされた要素は再チェックしないように、範囲を縮める\n",
        "        for j in range(0, n-i-1):\n",
        "            # 隣接要素を比較し、順序が逆なら交換する\n",
        "            if arr[j] > arr[j+1]:\n",
        "                arr[j], arr[j+1] = arr[j+1], arr[j]\n",
        "\n",
        "# 配列の例\n",
        "arr = [64, 34, 25, 12, 22, 11, 90]\n",
        "\n",
        "bubble_sort(arr)\n",
        "\n",
        "print(\"ソートされた配列は:\")\n",
        "for i in range(len(arr)):\n",
        "    print(\"%d\" % arr[i], end=\" \")\n"
      ]
    },
    {
      "cell_type": "code",
      "source": [
        "def bubble_sort_verbose(arr):\n",
        "    n = len(arr)\n",
        "    for i in range(n):\n",
        "        # 内部ループは、未ソート部分のみを対象とする\n",
        "        for j in range(0, n-i-1):\n",
        "            # 隣接要素を比較し、必要に応じて交換\n",
        "            if arr[j] > arr[j+1]:\n",
        "                arr[j], arr[j+1] = arr[j+1], arr[j]\n",
        "        # 各ステップの配列の状態を出力\n",
        "        print(f\"ステップ {i+1}: {arr}\")\n",
        "\n",
        "# テスト用の配列\n",
        "arr = [64, 34, 25, 12, 22, 11, 90]\n",
        "\n",
        "# バブルソートの実行\n",
        "bubble_sort_verbose(arr)\n"
      ],
      "metadata": {
        "colab": {
          "base_uri": "https://localhost:8080/"
        },
        "id": "a-CF9TGrvYAs",
        "outputId": "97e1d9bb-7130-446a-86d0-c39502ce7727"
      },
      "execution_count": 3,
      "outputs": [
        {
          "output_type": "stream",
          "name": "stdout",
          "text": [
            "ステップ 1: [34, 25, 12, 22, 11, 64, 90]\n",
            "ステップ 2: [25, 12, 22, 11, 34, 64, 90]\n",
            "ステップ 3: [12, 22, 11, 25, 34, 64, 90]\n",
            "ステップ 4: [12, 11, 22, 25, 34, 64, 90]\n",
            "ステップ 5: [11, 12, 22, 25, 34, 64, 90]\n",
            "ステップ 6: [11, 12, 22, 25, 34, 64, 90]\n",
            "ステップ 7: [11, 12, 22, 25, 34, 64, 90]\n"
          ]
        }
      ]
    },
    {
      "cell_type": "markdown",
      "source": [
        "# 挿入ソートのプログラム\n",
        "##挿入ソートの基本原理\n",
        "挿入ソートは、カードゲームを整理するような方法でデータを並び替えます。手持ちのカードを一枚ずつ正しい位置に挿入していくように、配列の各要素を適切な位置に挿入していきます。\n",
        "\n",
        "**ステップバイステップの説明**\n",
        "\n",
        "**1.最初の要素をソート済みと見なす**:\n",
        "配列の最初の要素は、それ自体が既に「ソート済み」と見なされます。\n",
        "\n",
        "**2.次の要素を選ぶ**: ソートされていない部分から次の要素を選びます。\n",
        "\n",
        "**3.適切な位置を探す**:\n",
        "この要素を、既にソートされている部分の適切な位置に挿入します。\n",
        "このために、選んだ要素よりも大きい要素を右にずらして、空きスペースを作ります。\n",
        "\n",
        "**4.要素を挿入する**:\n",
        "適切な位置に選んだ要素を挿入します。\n",
        "\n",
        "**5.繰り返す:**\n",
        "配列の最後の要素までこのプロセスを繰り返します。\n",
        "\n",
        "# 視覚的な例\n",
        "\n",
        "例えば、以下の配列をソートする場合を考えます：\n",
        "\n",
        "**[5, 3, 4, 1, 2]**\n",
        "\n",
        "* 最初の要素 5 はソート済みと見なします。\n",
        "* 次に 3 を取り、5 の前に挿入します： [3, 5, 4, 1, 2]\n",
        "* 次に 4 を取り、5 の前に挿入します： [3, 4, 5, 1, 2]\n",
        "* 次に 1 を取り、最初に挿入します： [1, 3, 4, 5, 2]\n",
        "* 最後に 2 を取り、3 の前に挿入します： [1, 2, 3, 4, 5]\n",
        "\n",
        "**ポイント**\n",
        "* **選択と移動**: このアルゴリズムの鍵は、未ソート部分から要素を選び、それをソート済み部分の適切な位置に挿入することです。\n",
        "* **繰り返し**: 全ての要素がこのプロセスを通じてソート済み部分に移動するまで続けます。"
      ],
      "metadata": {
        "id": "9nQ45-9vzeqB"
      }
    },
    {
      "cell_type": "code",
      "source": [
        "def insertion_sort_verbose(arr):\n",
        "    for i in range(1, len(arr)):\n",
        "        key = arr[i]\n",
        "        j = i - 1\n",
        "\n",
        "        # keyより大きい要素を一つ右へ移動\n",
        "        while j >= 0 and key < arr[j]:\n",
        "            arr[j + 1] = arr[j]\n",
        "            j -= 1\n",
        "        arr[j + 1] = key\n",
        "\n",
        "        # 途中経過の出力。現在のkeyを中括弧で囲む\n",
        "        print(f\"ステップ {i}: \", end=\"\")\n",
        "        print(arr[:j + 1] + [\"[\" + str(arr[j + 1]) + \"]\"] + arr[j + 2:])\n",
        "\n",
        "# ランダムな数値の配列を生成\n",
        "import random\n",
        "arr = random.sample(range(1, 100), 10) # 1から99の範囲でランダムな10個の数値\n",
        "\n",
        "# 挿入ソートの実行と途中経過の出力\n",
        "print(\"初期状態の配列:\", arr)\n",
        "insertion_sort_verbose(arr)\n",
        "print(\"ソートされた配列:\", arr)\n",
        "\n"
      ],
      "metadata": {
        "colab": {
          "base_uri": "https://localhost:8080/"
        },
        "id": "RdmnchyizcSi",
        "outputId": "03d9cadf-5993-4d0d-a40c-16caa908c4f6"
      },
      "execution_count": 19,
      "outputs": [
        {
          "output_type": "stream",
          "name": "stdout",
          "text": [
            "初期状態の配列: [80, 64, 25, 32, 35, 58, 6, 96, 93, 17]\n",
            "ステップ 1: ['[64]', 80, 25, 32, 35, 58, 6, 96, 93, 17]\n",
            "ステップ 2: ['[25]', 64, 80, 32, 35, 58, 6, 96, 93, 17]\n",
            "ステップ 3: [25, '[32]', 64, 80, 35, 58, 6, 96, 93, 17]\n",
            "ステップ 4: [25, 32, '[35]', 64, 80, 58, 6, 96, 93, 17]\n",
            "ステップ 5: [25, 32, 35, '[58]', 64, 80, 6, 96, 93, 17]\n",
            "ステップ 6: ['[6]', 25, 32, 35, 58, 64, 80, 96, 93, 17]\n",
            "ステップ 7: [6, 25, 32, 35, 58, 64, 80, '[96]', 93, 17]\n",
            "ステップ 8: [6, 25, 32, 35, 58, 64, 80, '[93]', 96, 17]\n",
            "ステップ 9: [6, '[17]', 25, 32, 35, 58, 64, 80, 93, 96]\n",
            "ソートされた配列: [6, 17, 25, 32, 35, 58, 64, 80, 93, 96]\n"
          ]
        }
      ]
    },
    {
      "cell_type": "markdown",
      "source": [
        "# クイックソートの例\n",
        "このプログラムは、クイックソートが配列をどのようにピボットを使って分割し、それぞれの部分を再帰的にソートしていくかを視覚的に理解するのに役立ちます。各ステップでのピボットと分割後の配列が表示されるため、アルゴリズムの動作を追跡しやすくなっています。"
      ],
      "metadata": {
        "id": "TTo7kOOU34--"
      }
    },
    {
      "cell_type": "code",
      "source": [
        "def quicksort_verbose(arr, start, end, depth=0):\n",
        "    \"\"\" クイックソートを実行し、途中経過を表示する関数。再帰の深さも表示する。 \"\"\"\n",
        "\n",
        "    # 再帰の深さに応じてインデントを追加\n",
        "    indent = \"  \" * depth\n",
        "\n",
        "    if start >= end:\n",
        "        print(f\"{indent}ステップ: 配列 {arr[start:end+1]} に対する操作は不要\")\n",
        "        return\n",
        "\n",
        "    # ピボットの選択（ここでは単純に中間の要素を選ぶ）\n",
        "    pivot_index = (start + end) // 2\n",
        "    pivot = arr[pivot_index]\n",
        "\n",
        "    # パーティション処理\n",
        "    left = start\n",
        "    right = end\n",
        "    while left <= right:\n",
        "        # 左側でピボット以上の要素を見つける\n",
        "        while arr[left] < pivot:\n",
        "            left += 1\n",
        "\n",
        "        # 右側でピボット以下の要素を見つける\n",
        "        while arr[right] > pivot:\n",
        "            right -= 1\n",
        "\n",
        "        # 要素を交換し、左右のインデックスを移動\n",
        "        if left <= right:\n",
        "            arr[left], arr[right] = arr[right], arr[left]\n",
        "            left += 1\n",
        "            right -= 1\n",
        "\n",
        "    # 途中経過の出力\n",
        "    print(f\"{indent}ピボット {pivot} を基準に分割: {arr[start:right+1]} | {arr[left:end+1]}\")\n",
        "\n",
        "    # 左側のパーティションを再帰的にソート\n",
        "    quicksort_verbose(arr, start, right, depth + 1)\n",
        "\n",
        "    # 右側のパーティションを再帰的にソート\n",
        "    quicksort_verbose(arr, left, end, depth + 1)\n",
        "\n",
        "# ランダムな数値の配列を生成\n",
        "import random\n",
        "arr = random.sample(range(1, 100), 10) # 1から99の範囲でランダムな10個の数値\n",
        "\n",
        "# クイックソートの実行と途中経過の出力\n",
        "print(\"初期状態の配列:\", arr)\n",
        "quicksort_verbose(arr, 0, len(arr) - 1)\n",
        "print(\"ソートされた配列:\", arr)\n"
      ],
      "metadata": {
        "colab": {
          "base_uri": "https://localhost:8080/"
        },
        "id": "AXuo11M24jV-",
        "outputId": "81638160-e832-4484-c43e-80ddc1ec61c4"
      },
      "execution_count": 32,
      "outputs": [
        {
          "output_type": "stream",
          "name": "stdout",
          "text": [
            "初期状態の配列: [57, 62, 1, 91, 54, 50, 45, 6, 37, 97]\n",
            "ピボット 54 を基準に分割: [37, 6, 1, 45, 50] | [54, 91, 62, 57, 97]\n",
            "  ピボット 1 を基準に分割: [1] | [6, 37, 45, 50]\n",
            "    ステップ: 配列 [1] に対する操作は不要\n",
            "    ピボット 37 を基準に分割: [6] | [45, 50]\n",
            "      ステップ: 配列 [6] に対する操作は不要\n",
            "      ピボット 45 を基準に分割: [] | [50]\n",
            "        ステップ: 配列 [] に対する操作は不要\n",
            "        ステップ: 配列 [50] に対する操作は不要\n",
            "  ピボット 62 を基準に分割: [54, 57] | [91, 97]\n",
            "    ピボット 54 を基準に分割: [] | [57]\n",
            "      ステップ: 配列 [] に対する操作は不要\n",
            "      ステップ: 配列 [57] に対する操作は不要\n",
            "    ピボット 91 を基準に分割: [] | [97]\n",
            "      ステップ: 配列 [] に対する操作は不要\n",
            "      ステップ: 配列 [97] に対する操作は不要\n",
            "ソートされた配列: [1, 6, 37, 45, 50, 54, 57, 62, 91, 97]\n"
          ]
        }
      ]
    }
  ]
}