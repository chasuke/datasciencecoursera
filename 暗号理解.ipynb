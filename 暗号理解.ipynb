{
  "nbformat": 4,
  "nbformat_minor": 0,
  "metadata": {
    "colab": {
      "provenance": [],
      "authorship_tag": "ABX9TyP3qgEGT3XWB55Vsu4XypJG",
      "include_colab_link": true
    },
    "kernelspec": {
      "name": "python3",
      "display_name": "Python 3"
    },
    "language_info": {
      "name": "python"
    }
  },
  "cells": [
    {
      "cell_type": "markdown",
      "metadata": {
        "id": "view-in-github",
        "colab_type": "text"
      },
      "source": [
        "<a href=\"https://colab.research.google.com/github/chasuke/datasciencecoursera/blob/master/%E6%9A%97%E5%8F%B7%E7%90%86%E8%A7%A3.ipynb\" target=\"_parent\"><img src=\"https://colab.research.google.com/assets/colab-badge.svg\" alt=\"Open In Colab\"/></a>"
      ]
    },
    {
      "cell_type": "markdown",
      "source": [
        "ローマ字をシーザー暗号で、変換、元に戻すプログラム"
      ],
      "metadata": {
        "id": "tM3zm5lFY6W3"
      }
    },
    {
      "cell_type": "code",
      "execution_count": null,
      "metadata": {
        "colab": {
          "base_uri": "https://localhost:8080/"
        },
        "id": "V1yHwWTJYL23",
        "outputId": "e5b1d5c0-7b5f-400a-a0f5-0f23458ff218"
      },
      "outputs": [
        {
          "output_type": "execute_result",
          "data": {
            "text/plain": [
              "('Hello, World! Good morning! Someya.',\n",
              " 'Mjqqt, Btwqi! Ltti rtwsnsl! Xtrjdf.',\n",
              " 'Hello, World! Good morning! Someya.')"
            ]
          },
          "metadata": {},
          "execution_count": 43
        }
      ],
      "source": [
        "def caesar_cipher(text, shift):\n",
        "    result = \"\"\n",
        "\n",
        "    for char in text:\n",
        "        if char.isalpha():  # Check if character is an alphabet\n",
        "            # Shift character and wrap around if necessary\n",
        "            shifted = ord(char) + shift\n",
        "            if char.islower():\n",
        "                if shifted > ord('z'):\n",
        "                    shifted -= 26\n",
        "                elif shifted < ord('a'):\n",
        "                    shifted += 26\n",
        "            elif char.isupper():\n",
        "                if shifted > ord('Z'):\n",
        "                    shifted -= 26\n",
        "                elif shifted < ord('A'):\n",
        "                    shifted += 26\n",
        "\n",
        "            result += chr(shifted)\n",
        "        else:\n",
        "            # Add the character as it is (for spaces, punctuation, etc.)\n",
        "            result += char\n",
        "\n",
        "    return result\n",
        "\n",
        "# Example usage of the caesar_cipher function\n",
        "example_text = \"Hello, World! Good morning! Someya.\"\n",
        "shift_amount = 5\n",
        "encrypted_text = caesar_cipher(example_text, shift_amount)\n",
        "decrypted_text = caesar_cipher(encrypted_text, -shift_amount)\n",
        "\n",
        "example_text, encrypted_text, decrypted_text\n"
      ]
    },
    {
      "cell_type": "code",
      "source": [
        "decrypted_text = caesar_cipher(encrypted_text, -shift_amount)"
      ],
      "metadata": {
        "id": "z_ucjR_tpSgZ"
      },
      "execution_count": null,
      "outputs": []
    },
    {
      "cell_type": "markdown",
      "source": [
        "ひらがなの入力の文字をずらして、もとにもどす。シーザー暗号"
      ],
      "metadata": {
        "id": "1i86UwyIZGgO"
      }
    },
    {
      "cell_type": "code",
      "source": [
        "def caesar_cipher_japanese(text, shift):\n",
        "    hiragana = 'あいうえおかきくけこさしすせそたちつてとなにぬねのはひふへほまみむめもやゆよらりるれろわをん'\n",
        "    result = \"\"\n",
        "\n",
        "    for char in text:\n",
        "        if char in hiragana:\n",
        "            # Find the index of the character in the hiragana string\n",
        "            index = hiragana.index(char)\n",
        "            # Shift the character and wrap around if necessary\n",
        "            shifted_index = (index + shift) % len(hiragana)\n",
        "            # Append the shifted character to the result\n",
        "            result += hiragana[shifted_index]\n",
        "        else:\n",
        "            # Add the character as it is (for kanji, punctuation, etc.)\n",
        "            result += char\n",
        "\n",
        "    return result\n",
        "\n",
        "# Example usage of the function\n",
        "example_text_jp = \"こんにちは,せかい\"\n",
        "shift_amount_jp = 5\n",
        "encrypted_text_jp = caesar_cipher_japanese(example_text_jp, shift_amount_jp)\n",
        "decrypted_text_jp = caesar_cipher_japanese(encrypted_text_jp, -shift_amount_jp)\n",
        "\n",
        "example_text_jp, encrypted_text_jp, decrypted_text_jp\n"
      ],
      "metadata": {
        "colab": {
          "base_uri": "https://localhost:8080/"
        },
        "id": "EHRs0ebFZR_N",
        "outputId": "662ec953-6511-4360-8498-c0354406922e"
      },
      "execution_count": null,
      "outputs": [
        {
          "output_type": "execute_result",
          "data": {
            "text/plain": [
              "('こんにちは,せかい', 'そおひにま,てさき', 'こんにちは,せかい')"
            ]
          },
          "metadata": {},
          "execution_count": 46
        }
      ]
    },
    {
      "cell_type": "markdown",
      "source": [
        "公開鍵暗号方式を使う"
      ],
      "metadata": {
        "id": "jesrsVEhafX8"
      }
    },
    {
      "cell_type": "code",
      "source": [
        "!pip install cryptography"
      ],
      "metadata": {
        "colab": {
          "base_uri": "https://localhost:8080/"
        },
        "id": "2nBq_F-EalzO",
        "outputId": "64e94f21-6648-4f55-bc21-14549f39b853"
      },
      "execution_count": null,
      "outputs": [
        {
          "output_type": "stream",
          "name": "stdout",
          "text": [
            "Requirement already satisfied: cryptography in /usr/local/lib/python3.10/dist-packages (41.0.7)\n",
            "Requirement already satisfied: cffi>=1.12 in /usr/local/lib/python3.10/dist-packages (from cryptography) (1.16.0)\n",
            "Requirement already satisfied: pycparser in /usr/local/lib/python3.10/dist-packages (from cffi>=1.12->cryptography) (2.21)\n"
          ]
        }
      ]
    },
    {
      "cell_type": "code",
      "source": [
        "from cryptography.hazmat.backends import default_backend\n",
        "from cryptography.hazmat.primitives.asymmetric import rsa\n",
        "from cryptography.hazmat.primitives import serialization\n",
        "from cryptography.hazmat.primitives.asymmetric import padding\n",
        "from cryptography.hazmat.primitives import hashes\n",
        "\n",
        "# 公開鍵と秘密鍵のペアを生成\n",
        "# 秘密鍵を保存\n",
        "private_key = rsa.generate_private_key(\n",
        "    public_exponent=65537,\n",
        "    key_size=2048,\n",
        "    backend=default_backend()\n",
        ")\n",
        "# 公開鍵を保存\n",
        "public_key = private_key.public_key()\n",
        "\n",
        "# メッセージのエンコード\n",
        "message = \"これは秘密のメッセージです。ほかの人には教えたくない大切な人へのメッセージ.いろいろ書けます\".encode('utf-8')\n",
        "\n",
        "# 公開鍵を使ってメッセージを暗号化\n",
        "encrypted_message = public_key.encrypt(\n",
        "    message,\n",
        "    padding.OAEP(\n",
        "        mgf=padding.MGF1(algorithm=hashes.SHA256()),\n",
        "        algorithm=hashes.SHA256(),\n",
        "        label=None\n",
        "    )\n",
        ")\n",
        "\n",
        "# # 秘密鍵を使って暗号化されたメッセージを復号化\n",
        "# decrypted_message = private_key.decrypt(\n",
        "#     encrypted_message,\n",
        "#     padding.OAEP(\n",
        "#         mgf=padding.MGF1(algorithm=hashes.SHA256()),\n",
        "#         algorithm=hashes.SHA256(),\n",
        "#         label=None\n",
        "#     )\n",
        "# )\n",
        "\n",
        "# # 復号化されたメッセージをデコード\n",
        "# decrypted_message = decrypted_message.decode('utf-8')\n",
        "\n",
        "print(\"元のメッセージ:\", message.decode('utf-8'))\n",
        "print(\"暗号化されたメッセージ:\", encrypted_message)\n",
        "\n"
      ],
      "metadata": {
        "id": "6qNs4vwYbD63",
        "outputId": "61b5580e-b92f-45aa-9864-00df40d670ba",
        "colab": {
          "base_uri": "https://localhost:8080/"
        }
      },
      "execution_count": null,
      "outputs": [
        {
          "output_type": "stream",
          "name": "stdout",
          "text": [
            "元のメッセージ: これは秘密のメッセージです。ほかの人には教えたくない大切な人へのメッセージ.いろいろ書けます\n",
            "暗号化されたメッセージ: b'\\x8fYW?\\x08\\x8b\\x9fL\\x07\\xedU\\xfe\\xa7c\\xf2X\\xb0;|6a$\\xfd\\xe5S\\x96\\xa1+\\xdf\\x8b\\xdfno5\\x8br+d\\xa4\\xf3\\x87\\x04\\x1c\\xb8\\x150W\\xee\\x89\\xb3T\\x19<=\\xc4\\xfb\\xed)\\xd7\\xaeS\\xe5^\\x98\\xfb\\x90N\\xc67\\xdf\\xf5\\xf9Ie)\\x92\\x94+\\x9b\\xa6\\xfb[\\x14\\x8b\\xa5\\xa9\\xf7\\x08N\\xd8A\\x1a3\\xb2!\\xf0\\xfc\\xbfe8\\x0c\\x10\\xd3\\x1fIn\\x84c\\xfe\\nC\\xe3\\x9d\\xcc8\\xea\\x8f\\x1e\\x87h\\xf9\\xa8\\x01\\xb7\\xf2\\x10|\\xcc>\\xc4\\x88\\xf90x\\x03\\x12\\xe1?\\xcbG7\\n\\xea8Jl\\xd7%o\"7U5:*\\xc9[T\\x06\\x9d\\x03&4\\xe8\\xea\\x8dU\\xf8$\\x8f\\x0e>\\x99\\xaeY\\x08|)>\\xceU^\\xce\\xb2\\x08!c\\x00\\xb3\\xde^\\xabu\\xd0\\x9b\\x10\\xe1M|$\\x14\\xe0\\x93\\xb9\\xd9\\x1a\\xbd\\xc2\\x8b\\xe2\\x15\\x06\\x9e\\x92\\xe2\\xb0K\\xdcA\\x04>\\xc7VyBk{\\x1a\\xcd\\x96]\\xb4\\xea\\xb2\\x02\\x15\\x1da\\x19Ko0\\x84\\xe5\\x88\\xa4\\x0b\\xa5\\xc1e\\xc0\\xc3\\x06*\\x9b\\t'\n"
          ]
        }
      ]
    },
    {
      "cell_type": "code",
      "source": [
        "print(\"元のメッセージ:\", message.decode('utf-8'))"
      ],
      "metadata": {
        "colab": {
          "base_uri": "https://localhost:8080/"
        },
        "id": "SX8X1UKtiwYS",
        "outputId": "58ebea9b-4373-4e1b-fead-1e39805ef768"
      },
      "execution_count": null,
      "outputs": [
        {
          "output_type": "stream",
          "name": "stdout",
          "text": [
            "元のメッセージ: これは秘密のメッセージです。ほかの人には教えたくない大切な人へのメッセージ\n"
          ]
        }
      ]
    },
    {
      "cell_type": "code",
      "source": [
        "print(\"暗号化されたメッセージ:\", encrypted_message)"
      ],
      "metadata": {
        "colab": {
          "base_uri": "https://localhost:8080/"
        },
        "id": "SwO1bpt8i1GJ",
        "outputId": "7bcf3161-82e4-4bbb-fc47-d759679ebeec"
      },
      "execution_count": null,
      "outputs": [
        {
          "output_type": "stream",
          "name": "stdout",
          "text": [
            "暗号化されたメッセージ: b'\\x8fYW?\\x08\\x8b\\x9fL\\x07\\xedU\\xfe\\xa7c\\xf2X\\xb0;|6a$\\xfd\\xe5S\\x96\\xa1+\\xdf\\x8b\\xdfno5\\x8br+d\\xa4\\xf3\\x87\\x04\\x1c\\xb8\\x150W\\xee\\x89\\xb3T\\x19<=\\xc4\\xfb\\xed)\\xd7\\xaeS\\xe5^\\x98\\xfb\\x90N\\xc67\\xdf\\xf5\\xf9Ie)\\x92\\x94+\\x9b\\xa6\\xfb[\\x14\\x8b\\xa5\\xa9\\xf7\\x08N\\xd8A\\x1a3\\xb2!\\xf0\\xfc\\xbfe8\\x0c\\x10\\xd3\\x1fIn\\x84c\\xfe\\nC\\xe3\\x9d\\xcc8\\xea\\x8f\\x1e\\x87h\\xf9\\xa8\\x01\\xb7\\xf2\\x10|\\xcc>\\xc4\\x88\\xf90x\\x03\\x12\\xe1?\\xcbG7\\n\\xea8Jl\\xd7%o\"7U5:*\\xc9[T\\x06\\x9d\\x03&4\\xe8\\xea\\x8dU\\xf8$\\x8f\\x0e>\\x99\\xaeY\\x08|)>\\xceU^\\xce\\xb2\\x08!c\\x00\\xb3\\xde^\\xabu\\xd0\\x9b\\x10\\xe1M|$\\x14\\xe0\\x93\\xb9\\xd9\\x1a\\xbd\\xc2\\x8b\\xe2\\x15\\x06\\x9e\\x92\\xe2\\xb0K\\xdcA\\x04>\\xc7VyBk{\\x1a\\xcd\\x96]\\xb4\\xea\\xb2\\x02\\x15\\x1da\\x19Ko0\\x84\\xe5\\x88\\xa4\\x0b\\xa5\\xc1e\\xc0\\xc3\\x06*\\x9b\\t'\n"
          ]
        }
      ]
    },
    {
      "cell_type": "code",
      "source": [
        "# 秘密鍵を使って暗号化されたメッセージを復号化\n",
        "decrypted_message = private_key.decrypt(\n",
        "    encrypted_message,\n",
        "    padding.OAEP(\n",
        "        mgf=padding.MGF1(algorithm=hashes.SHA256()),\n",
        "        algorithm=hashes.SHA256(),\n",
        "        label=None\n",
        "    )\n",
        ")\n",
        "\n",
        "# 復号化されたメッセージをデコード\n",
        "decrypted_message = decrypted_message.decode('utf-8')\n",
        "\n",
        "print(\"暗号化されたメッセージ:\", encrypted_message)\n",
        "print(\"復号化されたメッセージ:\", decrypted_message)"
      ],
      "metadata": {
        "colab": {
          "base_uri": "https://localhost:8080/"
        },
        "id": "YCEkgVUajXiS",
        "outputId": "ab59aefe-a821-46d1-ddb4-0b78b53521d8"
      },
      "execution_count": null,
      "outputs": [
        {
          "output_type": "stream",
          "name": "stdout",
          "text": [
            "暗号化されたメッセージ: b'\\x8fYW?\\x08\\x8b\\x9fL\\x07\\xedU\\xfe\\xa7c\\xf2X\\xb0;|6a$\\xfd\\xe5S\\x96\\xa1+\\xdf\\x8b\\xdfno5\\x8br+d\\xa4\\xf3\\x87\\x04\\x1c\\xb8\\x150W\\xee\\x89\\xb3T\\x19<=\\xc4\\xfb\\xed)\\xd7\\xaeS\\xe5^\\x98\\xfb\\x90N\\xc67\\xdf\\xf5\\xf9Ie)\\x92\\x94+\\x9b\\xa6\\xfb[\\x14\\x8b\\xa5\\xa9\\xf7\\x08N\\xd8A\\x1a3\\xb2!\\xf0\\xfc\\xbfe8\\x0c\\x10\\xd3\\x1fIn\\x84c\\xfe\\nC\\xe3\\x9d\\xcc8\\xea\\x8f\\x1e\\x87h\\xf9\\xa8\\x01\\xb7\\xf2\\x10|\\xcc>\\xc4\\x88\\xf90x\\x03\\x12\\xe1?\\xcbG7\\n\\xea8Jl\\xd7%o\"7U5:*\\xc9[T\\x06\\x9d\\x03&4\\xe8\\xea\\x8dU\\xf8$\\x8f\\x0e>\\x99\\xaeY\\x08|)>\\xceU^\\xce\\xb2\\x08!c\\x00\\xb3\\xde^\\xabu\\xd0\\x9b\\x10\\xe1M|$\\x14\\xe0\\x93\\xb9\\xd9\\x1a\\xbd\\xc2\\x8b\\xe2\\x15\\x06\\x9e\\x92\\xe2\\xb0K\\xdcA\\x04>\\xc7VyBk{\\x1a\\xcd\\x96]\\xb4\\xea\\xb2\\x02\\x15\\x1da\\x19Ko0\\x84\\xe5\\x88\\xa4\\x0b\\xa5\\xc1e\\xc0\\xc3\\x06*\\x9b\\t'\n",
            "復号化されたメッセージ: これは秘密のメッセージです。ほかの人には教えたくない大切な人へのメッセージ.いろいろ書けます\n"
          ]
        }
      ]
    },
    {
      "cell_type": "code",
      "source": [
        "print(\"復号化されたメッセージ:\", decrypted_message)"
      ],
      "metadata": {
        "colab": {
          "base_uri": "https://localhost:8080/"
        },
        "id": "Cjx_zXRti3XK",
        "outputId": "7ff293c1-47ba-43e5-e01f-d8be04e45424"
      },
      "execution_count": null,
      "outputs": [
        {
          "output_type": "stream",
          "name": "stdout",
          "text": [
            "復号化されたメッセージ: これは秘密のメッセージです。ほかの人には教えたくない大切な人へのメッセージ.いろいろ書けます\n"
          ]
        }
      ]
    }
  ]
}