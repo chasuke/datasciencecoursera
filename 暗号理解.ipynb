{
  "nbformat": 4,
  "nbformat_minor": 0,
  "metadata": {
    "colab": {
      "provenance": [],
      "authorship_tag": "ABX9TyOeAJihXuNa4y0vg3Ib0WHv",
      "include_colab_link": true
    },
    "kernelspec": {
      "name": "python3",
      "display_name": "Python 3"
    },
    "language_info": {
      "name": "python"
    }
  },
  "cells": [
    {
      "cell_type": "markdown",
      "metadata": {
        "id": "view-in-github",
        "colab_type": "text"
      },
      "source": [
        "<a href=\"https://colab.research.google.com/github/chasuke/datasciencecoursera/blob/master/%E6%9A%97%E5%8F%B7%E7%90%86%E8%A7%A3.ipynb\" target=\"_parent\"><img src=\"https://colab.research.google.com/assets/colab-badge.svg\" alt=\"Open In Colab\"/></a>"
      ]
    },
    {
      "cell_type": "markdown",
      "source": [
        "ローマ字をシーザー暗号で、変換、元に戻すプログラム"
      ],
      "metadata": {
        "id": "tM3zm5lFY6W3"
      }
    },
    {
      "cell_type": "code",
      "execution_count": 2,
      "metadata": {
        "colab": {
          "base_uri": "https://localhost:8080/"
        },
        "id": "V1yHwWTJYL23",
        "outputId": "5d1dbe14-4894-4722-da0b-84d1f62837d5"
      },
      "outputs": [
        {
          "output_type": "execute_result",
          "data": {
            "text/plain": [
              "('Hello, World! Good morning! Someya.',\n",
              " 'Mjqqt, Btwqi! Ltti rtwsnsl! Xtrjdf.',\n",
              " 'Hello, World! Good morning! Someya.')"
            ]
          },
          "metadata": {},
          "execution_count": 2
        }
      ],
      "source": [
        "def caesar_cipher(text, shift):\n",
        "    result = \"\"\n",
        "\n",
        "    for char in text:\n",
        "        if char.isalpha():  # Check if character is an alphabet\n",
        "            # Shift character and wrap around if necessary\n",
        "            shifted = ord(char) + shift\n",
        "            if char.islower():\n",
        "                if shifted > ord('z'):\n",
        "                    shifted -= 26\n",
        "                elif shifted < ord('a'):\n",
        "                    shifted += 26\n",
        "            elif char.isupper():\n",
        "                if shifted > ord('Z'):\n",
        "                    shifted -= 26\n",
        "                elif shifted < ord('A'):\n",
        "                    shifted += 26\n",
        "\n",
        "            result += chr(shifted)\n",
        "        else:\n",
        "            # Add the character as it is (for spaces, punctuation, etc.)\n",
        "            result += char\n",
        "\n",
        "    return result\n",
        "\n",
        "# Example usage of the caesar_cipher function\n",
        "example_text = \"Hello, World! Good morning! Someya.\"\n",
        "shift_amount = 5\n",
        "encrypted_text = caesar_cipher(example_text, shift_amount)\n",
        "decrypted_text = caesar_cipher(encrypted_text, -shift_amount)\n",
        "\n",
        "example_text, encrypted_text, decrypted_text\n"
      ]
    },
    {
      "cell_type": "code",
      "source": [
        "decrypted_text = caesar_cipher(encrypted_text, -shift_amount)"
      ],
      "metadata": {
        "id": "z_ucjR_tpSgZ"
      },
      "execution_count": 3,
      "outputs": []
    },
    {
      "cell_type": "markdown",
      "source": [
        "ひらがなの入力の文字をずらして、もとにもどす。シーザー暗号"
      ],
      "metadata": {
        "id": "1i86UwyIZGgO"
      }
    },
    {
      "cell_type": "code",
      "source": [
        "def caesar_cipher_japanese(text, shift):\n",
        "    hiragana = 'あいうえおかきくけこさしすせそたちつてとなにぬねのはひふへほまみむめもやゆよらりるれろわをん'\n",
        "    result = \"\"\n",
        "\n",
        "    for char in text:\n",
        "        if char in hiragana:\n",
        "            # Find the index of the character in the hiragana string\n",
        "            index = hiragana.index(char)\n",
        "            # Shift the character and wrap around if necessary\n",
        "            shifted_index = (index + shift) % len(hiragana)\n",
        "            # Append the shifted character to the result\n",
        "            result += hiragana[shifted_index]\n",
        "        else:\n",
        "            # Add the character as it is (for kanji, punctuation, etc.)\n",
        "            result += char\n",
        "\n",
        "    return result\n",
        "\n",
        "# Example usage of the function\n",
        "example_text_jp = \"こんにちは,せかい\"\n",
        "shift_amount_jp = 5\n",
        "encrypted_text_jp = caesar_cipher_japanese(example_text_jp, shift_amount_jp)\n",
        "decrypted_text_jp = caesar_cipher_japanese(encrypted_text_jp, -shift_amount_jp)\n",
        "\n",
        "example_text_jp, encrypted_text_jp, decrypted_text_jp\n"
      ],
      "metadata": {
        "colab": {
          "base_uri": "https://localhost:8080/"
        },
        "id": "EHRs0ebFZR_N",
        "outputId": "cbd9654b-6790-4fe5-f0ec-601be8e9380b"
      },
      "execution_count": 4,
      "outputs": [
        {
          "output_type": "execute_result",
          "data": {
            "text/plain": [
              "('こんにちは,せかい', 'そおひにま,てさき', 'こんにちは,せかい')"
            ]
          },
          "metadata": {},
          "execution_count": 4
        }
      ]
    },
    {
      "cell_type": "markdown",
      "source": [
        "公開鍵暗号方式を使う"
      ],
      "metadata": {
        "id": "jesrsVEhafX8"
      }
    },
    {
      "cell_type": "code",
      "source": [
        "!pip install cryptography"
      ],
      "metadata": {
        "colab": {
          "base_uri": "https://localhost:8080/"
        },
        "id": "2nBq_F-EalzO",
        "outputId": "edd8415f-b326-4366-ed2d-0d3055cc82cb"
      },
      "execution_count": 5,
      "outputs": [
        {
          "output_type": "stream",
          "name": "stdout",
          "text": [
            "Requirement already satisfied: cryptography in /usr/local/lib/python3.10/dist-packages (41.0.7)\n",
            "Requirement already satisfied: cffi>=1.12 in /usr/local/lib/python3.10/dist-packages (from cryptography) (1.16.0)\n",
            "Requirement already satisfied: pycparser in /usr/local/lib/python3.10/dist-packages (from cffi>=1.12->cryptography) (2.21)\n"
          ]
        }
      ]
    },
    {
      "cell_type": "code",
      "source": [
        "from cryptography.hazmat.backends import default_backend\n",
        "from cryptography.hazmat.primitives.asymmetric import rsa\n",
        "from cryptography.hazmat.primitives import serialization\n",
        "from cryptography.hazmat.primitives.asymmetric import padding\n",
        "from cryptography.hazmat.primitives import hashes\n",
        "\n",
        "# 公開鍵と秘密鍵のペアを生成\n",
        "# 秘密鍵を生成\n",
        "private_key = rsa.generate_private_key(\n",
        "    public_exponent=65537,\n",
        "    key_size=2048,\n",
        "    backend=default_backend()\n",
        ")\n",
        "# 公開鍵を生成\n",
        "public_key = private_key.public_key()\n",
        "\n",
        "# メッセージのエンコード\n",
        "message = \"これは秘密のメッセージです。ほかの人には教えたくない大切な人へのメッセージ.いろいろ書けます\".encode('utf-8')\n",
        "\n",
        "# 公開鍵を使ってメッセージを暗号化\n",
        "encrypted_message = public_key.encrypt(\n",
        "    message,\n",
        "    padding.OAEP(\n",
        "        mgf=padding.MGF1(algorithm=hashes.SHA256()),\n",
        "        algorithm=hashes.SHA256(),\n",
        "        label=None\n",
        "    )\n",
        ")\n",
        "\n",
        "# # 秘密鍵を使って暗号化されたメッセージを復号化\n",
        "# decrypted_message = private_key.decrypt(\n",
        "#     encrypted_message,\n",
        "#     padding.OAEP(\n",
        "#         mgf=padding.MGF1(algorithm=hashes.SHA256()),\n",
        "#         algorithm=hashes.SHA256(),\n",
        "#         label=None\n",
        "#     )\n",
        "# )\n",
        "\n",
        "# # 復号化されたメッセージをデコード\n",
        "# decrypted_message = decrypted_message.decode('utf-8')\n",
        "\n",
        "print(\"元のメッセージ:\", message.decode('utf-8'))\n",
        "print(\"暗号化されたメッセージ:\", encrypted_message)\n",
        "\n"
      ],
      "metadata": {
        "id": "6qNs4vwYbD63",
        "outputId": "0c3b7140-1c1b-476b-c695-7e9a8997a99c",
        "colab": {
          "base_uri": "https://localhost:8080/"
        }
      },
      "execution_count": 6,
      "outputs": [
        {
          "output_type": "stream",
          "name": "stdout",
          "text": [
            "元のメッセージ: これは秘密のメッセージです。ほかの人には教えたくない大切な人へのメッセージ.いろいろ書けます\n",
            "暗号化されたメッセージ: b'~r\\xdf\\r\\x84c^[\\x89\\x1c7\\x03\\x8cw!\\xf1\\x8fQ\\xc8\\xbes\\xe4\\xd7\\xbc\\xe5\\xa7\\x0e\\x14\\xfdg\\x8a\\t\\x9a\\'a\\xb2F\\x9e\\x12\\xbf{\\x0f\\xac\\x9cxZ\\xf7\\xfe\\xd9\\xd6\\xd7=?\\x19\\xa2\\xae\\xff\\xf0\\x98W \\xf0\\x9a\\xb4\\xd3\\x14!)\\xab\\xb2\\xaflV\\x06\\xd6\\xaa\\xd6A\\xafvA\\xfd\\xa5QG\\xa0\\x84\\x9a]{[\\xf7\\xa9\\xfdqza,vH\\xd0\\xac]7N\\xab3\\x8bxMi\\x88\\x05\\xc9\\x7f\\r@\\xf8\\xae;\\x17\\xbbj\\xa2\\x1e\\x1c\\xb5\\xcbj+\\'=\\xf0z\\xc5\\xba2\\x84\\xafW\\x8e\\x18\\xa4\\\\0\\x97\\x84\\xc67\\x18\\x80G2\\xfc\\xe7t\\x1e\\x81\\xea_\\x89\\xc9\\xfd\\rd\\x117\\\\\\x9f$G\\xa1\\x16\\x8dh\\x88#\\xf8\\xb9\\xa2qr_%\\x8e\\x03\\x90\\x86\\xd6\\xc3\\xdf|w\\xdb\\xcc@\\xa4a\\xed\\xd7D3\"\\xdd\\x9fk<\\x1f\\xf1\\xc1J\\xa9\\xf0\\xfe7\\xc6:0\\xed\\xcd\\xcet\\xfb\\x9e\\x10\\xf6Y\\xe9\\xa2O\\x12R\\x0f]\\xee\\xf3\\xf8\\x1b\\x8f@s\\xde\\xaf\\xc6#\\x1f\\x0eZ\\xf4\\xa46\\xb8\\x12\\xf9*\\xb3'\n"
          ]
        }
      ]
    },
    {
      "cell_type": "code",
      "source": [
        "print(\"元のメッセージ:\", message.decode('utf-8'))"
      ],
      "metadata": {
        "colab": {
          "base_uri": "https://localhost:8080/"
        },
        "id": "SX8X1UKtiwYS",
        "outputId": "60ca8edd-3ec5-4190-ab8d-12c7cf26d302"
      },
      "execution_count": 7,
      "outputs": [
        {
          "output_type": "stream",
          "name": "stdout",
          "text": [
            "元のメッセージ: これは秘密のメッセージです。ほかの人には教えたくない大切な人へのメッセージ.いろいろ書けます\n"
          ]
        }
      ]
    },
    {
      "cell_type": "code",
      "source": [
        "print(\"暗号化されたメッセージ:\", encrypted_message)"
      ],
      "metadata": {
        "colab": {
          "base_uri": "https://localhost:8080/"
        },
        "id": "SwO1bpt8i1GJ",
        "outputId": "c61565e8-b770-4ba0-b64a-5e2c3640eddf"
      },
      "execution_count": 8,
      "outputs": [
        {
          "output_type": "stream",
          "name": "stdout",
          "text": [
            "暗号化されたメッセージ: b'~r\\xdf\\r\\x84c^[\\x89\\x1c7\\x03\\x8cw!\\xf1\\x8fQ\\xc8\\xbes\\xe4\\xd7\\xbc\\xe5\\xa7\\x0e\\x14\\xfdg\\x8a\\t\\x9a\\'a\\xb2F\\x9e\\x12\\xbf{\\x0f\\xac\\x9cxZ\\xf7\\xfe\\xd9\\xd6\\xd7=?\\x19\\xa2\\xae\\xff\\xf0\\x98W \\xf0\\x9a\\xb4\\xd3\\x14!)\\xab\\xb2\\xaflV\\x06\\xd6\\xaa\\xd6A\\xafvA\\xfd\\xa5QG\\xa0\\x84\\x9a]{[\\xf7\\xa9\\xfdqza,vH\\xd0\\xac]7N\\xab3\\x8bxMi\\x88\\x05\\xc9\\x7f\\r@\\xf8\\xae;\\x17\\xbbj\\xa2\\x1e\\x1c\\xb5\\xcbj+\\'=\\xf0z\\xc5\\xba2\\x84\\xafW\\x8e\\x18\\xa4\\\\0\\x97\\x84\\xc67\\x18\\x80G2\\xfc\\xe7t\\x1e\\x81\\xea_\\x89\\xc9\\xfd\\rd\\x117\\\\\\x9f$G\\xa1\\x16\\x8dh\\x88#\\xf8\\xb9\\xa2qr_%\\x8e\\x03\\x90\\x86\\xd6\\xc3\\xdf|w\\xdb\\xcc@\\xa4a\\xed\\xd7D3\"\\xdd\\x9fk<\\x1f\\xf1\\xc1J\\xa9\\xf0\\xfe7\\xc6:0\\xed\\xcd\\xcet\\xfb\\x9e\\x10\\xf6Y\\xe9\\xa2O\\x12R\\x0f]\\xee\\xf3\\xf8\\x1b\\x8f@s\\xde\\xaf\\xc6#\\x1f\\x0eZ\\xf4\\xa46\\xb8\\x12\\xf9*\\xb3'\n"
          ]
        }
      ]
    },
    {
      "cell_type": "markdown",
      "source": [
        "# 秘密鍵を使って暗号化したメッセージを復号します。"
      ],
      "metadata": {
        "id": "IOdhYz6xu7oI"
      }
    },
    {
      "cell_type": "code",
      "source": [
        "# 秘密鍵を使って暗号化されたメッセージを復号化\n",
        "decrypted_message = private_key.decrypt(\n",
        "    encrypted_message,\n",
        "    padding.OAEP(\n",
        "        mgf=padding.MGF1(algorithm=hashes.SHA256()),\n",
        "        algorithm=hashes.SHA256(),\n",
        "        label=None\n",
        "    )\n",
        ")\n",
        "\n",
        "# 復号化されたメッセージをデコード\n",
        "decrypted_message = decrypted_message.decode('utf-8')\n",
        "\n",
        "print(\"暗号化されたメッセージ:\", encrypted_message)\n",
        "print(\"復号化されたメッセージ:\", decrypted_message)"
      ],
      "metadata": {
        "colab": {
          "base_uri": "https://localhost:8080/"
        },
        "id": "YCEkgVUajXiS",
        "outputId": "234982ac-71a0-4797-c182-04c10a548ad9"
      },
      "execution_count": 9,
      "outputs": [
        {
          "output_type": "stream",
          "name": "stdout",
          "text": [
            "暗号化されたメッセージ: b'~r\\xdf\\r\\x84c^[\\x89\\x1c7\\x03\\x8cw!\\xf1\\x8fQ\\xc8\\xbes\\xe4\\xd7\\xbc\\xe5\\xa7\\x0e\\x14\\xfdg\\x8a\\t\\x9a\\'a\\xb2F\\x9e\\x12\\xbf{\\x0f\\xac\\x9cxZ\\xf7\\xfe\\xd9\\xd6\\xd7=?\\x19\\xa2\\xae\\xff\\xf0\\x98W \\xf0\\x9a\\xb4\\xd3\\x14!)\\xab\\xb2\\xaflV\\x06\\xd6\\xaa\\xd6A\\xafvA\\xfd\\xa5QG\\xa0\\x84\\x9a]{[\\xf7\\xa9\\xfdqza,vH\\xd0\\xac]7N\\xab3\\x8bxMi\\x88\\x05\\xc9\\x7f\\r@\\xf8\\xae;\\x17\\xbbj\\xa2\\x1e\\x1c\\xb5\\xcbj+\\'=\\xf0z\\xc5\\xba2\\x84\\xafW\\x8e\\x18\\xa4\\\\0\\x97\\x84\\xc67\\x18\\x80G2\\xfc\\xe7t\\x1e\\x81\\xea_\\x89\\xc9\\xfd\\rd\\x117\\\\\\x9f$G\\xa1\\x16\\x8dh\\x88#\\xf8\\xb9\\xa2qr_%\\x8e\\x03\\x90\\x86\\xd6\\xc3\\xdf|w\\xdb\\xcc@\\xa4a\\xed\\xd7D3\"\\xdd\\x9fk<\\x1f\\xf1\\xc1J\\xa9\\xf0\\xfe7\\xc6:0\\xed\\xcd\\xcet\\xfb\\x9e\\x10\\xf6Y\\xe9\\xa2O\\x12R\\x0f]\\xee\\xf3\\xf8\\x1b\\x8f@s\\xde\\xaf\\xc6#\\x1f\\x0eZ\\xf4\\xa46\\xb8\\x12\\xf9*\\xb3'\n",
            "復号化されたメッセージ: これは秘密のメッセージです。ほかの人には教えたくない大切な人へのメッセージ.いろいろ書けます\n"
          ]
        }
      ]
    },
    {
      "cell_type": "code",
      "source": [
        "print(\"復号化されたメッセージ:\", decrypted_message)"
      ],
      "metadata": {
        "colab": {
          "base_uri": "https://localhost:8080/"
        },
        "id": "Cjx_zXRti3XK",
        "outputId": "b4487758-e4a9-4a7a-fb75-4bb1d25a87d1"
      },
      "execution_count": 10,
      "outputs": [
        {
          "output_type": "stream",
          "name": "stdout",
          "text": [
            "復号化されたメッセージ: これは秘密のメッセージです。ほかの人には教えたくない大切な人へのメッセージ.いろいろ書けます\n"
          ]
        }
      ]
    }
  ]
}