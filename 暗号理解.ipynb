{
  "nbformat": 4,
  "nbformat_minor": 0,
  "metadata": {
    "colab": {
      "provenance": [],
      "authorship_tag": "ABX9TyM8UoiaOXP47KgeejXnLGOG",
      "include_colab_link": true
    },
    "kernelspec": {
      "name": "python3",
      "display_name": "Python 3"
    },
    "language_info": {
      "name": "python"
    }
  },
  "cells": [
    {
      "cell_type": "markdown",
      "metadata": {
        "id": "view-in-github",
        "colab_type": "text"
      },
      "source": [
        "<a href=\"https://colab.research.google.com/github/chasuke/datasciencecoursera/blob/master/%E6%9A%97%E5%8F%B7%E7%90%86%E8%A7%A3.ipynb\" target=\"_parent\"><img src=\"https://colab.research.google.com/assets/colab-badge.svg\" alt=\"Open In Colab\"/></a>"
      ]
    },
    {
      "cell_type": "markdown",
      "source": [
        "ローマ字をシーザー暗号で、変換、元に戻すプログラム"
      ],
      "metadata": {
        "id": "tM3zm5lFY6W3"
      }
    },
    {
      "cell_type": "code",
      "execution_count": 11,
      "metadata": {
        "colab": {
          "base_uri": "https://localhost:8080/"
        },
        "id": "V1yHwWTJYL23",
        "outputId": "bd199abd-044c-4d3b-a464-7497d1e1a77e"
      },
      "outputs": [
        {
          "output_type": "execute_result",
          "data": {
            "text/plain": [
              "('Hello, World! Good morning!',\n",
              " 'Mjqqt, Btwqi! Ltti rtwsnsl!',\n",
              " 'Hello, World! Good morning!')"
            ]
          },
          "metadata": {},
          "execution_count": 11
        }
      ],
      "source": [
        "def caesar_cipher(text, shift):\n",
        "    result = \"\"\n",
        "\n",
        "    for char in text:\n",
        "        if char.isalpha():  # Check if character is an alphabet\n",
        "            # Shift character and wrap around if necessary\n",
        "            shifted = ord(char) + shift\n",
        "            if char.islower():\n",
        "                if shifted > ord('z'):\n",
        "                    shifted -= 26\n",
        "                elif shifted < ord('a'):\n",
        "                    shifted += 26\n",
        "            elif char.isupper():\n",
        "                if shifted > ord('Z'):\n",
        "                    shifted -= 26\n",
        "                elif shifted < ord('A'):\n",
        "                    shifted += 26\n",
        "\n",
        "            result += chr(shifted)\n",
        "        else:\n",
        "            # Add the character as it is (for spaces, punctuation, etc.)\n",
        "            result += char\n",
        "\n",
        "    return result\n",
        "\n",
        "# Example usage of the caesar_cipher function\n",
        "example_text = \"Hello, World! Good morning!\"\n",
        "shift_amount = 5\n",
        "encrypted_text = caesar_cipher(example_text, shift_amount)\n",
        "decrypted_text = caesar_cipher(encrypted_text, -shift_amount)\n",
        "\n",
        "example_text, encrypted_text, decrypted_text\n"
      ]
    },
    {
      "cell_type": "markdown",
      "source": [
        "ひらがなの入力を人文字ずらして、もとにもどす。シーザー暗号"
      ],
      "metadata": {
        "id": "1i86UwyIZGgO"
      }
    },
    {
      "cell_type": "code",
      "source": [
        "def caesar_cipher_japanese(text, shift):\n",
        "    hiragana = 'あいうえおかきくけこさしすせそたちつてとなにぬねのはひふへほまみむめもやゆよらりるれろわをん'\n",
        "    result = \"\"\n",
        "\n",
        "    for char in text:\n",
        "        if char in hiragana:\n",
        "            # Find the index of the character in the hiragana string\n",
        "            index = hiragana.index(char)\n",
        "            # Shift the character and wrap around if necessary\n",
        "            shifted_index = (index + shift) % len(hiragana)\n",
        "            # Append the shifted character to the result\n",
        "            result += hiragana[shifted_index]\n",
        "        else:\n",
        "            # Add the character as it is (for kanji, punctuation, etc.)\n",
        "            result += char\n",
        "\n",
        "    return result\n",
        "\n",
        "# Example usage of the function\n",
        "example_text_jp = \"こんにちは\"\n",
        "shift_amount_jp = 1\n",
        "encrypted_text_jp = caesar_cipher_japanese(example_text_jp, shift_amount_jp)\n",
        "decrypted_text_jp = caesar_cipher_japanese(encrypted_text_jp, -shift_amount_jp)\n",
        "\n",
        "example_text_jp, encrypted_text_jp, decrypted_text_jp\n"
      ],
      "metadata": {
        "colab": {
          "base_uri": "https://localhost:8080/"
        },
        "id": "EHRs0ebFZR_N",
        "outputId": "6734587b-d724-4ecd-ea79-5d3881ed198d"
      },
      "execution_count": 12,
      "outputs": [
        {
          "output_type": "execute_result",
          "data": {
            "text/plain": [
              "('こんにちは', 'さあぬつひ', 'こんにちは')"
            ]
          },
          "metadata": {},
          "execution_count": 12
        }
      ]
    },
    {
      "cell_type": "markdown",
      "source": [
        "公開鍵暗号方式を使う"
      ],
      "metadata": {
        "id": "jesrsVEhafX8"
      }
    },
    {
      "cell_type": "code",
      "source": [
        "!pip install cryptography\n"
      ],
      "metadata": {
        "colab": {
          "base_uri": "https://localhost:8080/"
        },
        "id": "2nBq_F-EalzO",
        "outputId": "6794ed7e-bac9-42de-8429-9cf9fb889ab2"
      },
      "execution_count": 13,
      "outputs": [
        {
          "output_type": "stream",
          "name": "stdout",
          "text": [
            "Requirement already satisfied: cryptography in /usr/local/lib/python3.10/dist-packages (41.0.7)\n",
            "Requirement already satisfied: cffi>=1.12 in /usr/local/lib/python3.10/dist-packages (from cryptography) (1.16.0)\n",
            "Requirement already satisfied: pycparser in /usr/local/lib/python3.10/dist-packages (from cffi>=1.12->cryptography) (2.21)\n"
          ]
        }
      ]
    },
    {
      "cell_type": "code",
      "source": [
        "from cryptography.hazmat.backends import default_backend\n",
        "from cryptography.hazmat.primitives.asymmetric import rsa\n",
        "from cryptography.hazmat.primitives import serialization\n",
        "from cryptography.hazmat.primitives.asymmetric import padding\n",
        "from cryptography.hazmat.primitives import hashes\n",
        "\n",
        "# 公開鍵と秘密鍵のペアを生成\n",
        "# 秘密鍵を生成\n",
        "private_key = rsa.generate_private_key(\n",
        "    public_exponent=65537,\n",
        "    key_size=2048,\n",
        "    backend=default_backend()\n",
        ")\n",
        "# 公開鍵を生成\n",
        "public_key = private_key.public_key()\n",
        "\n",
        "# メッセージのエンコード\n",
        "message = \"これは秘密のメッセージです\".encode('utf-8')\n",
        "\n",
        "# 公開鍵を使ってメッセージを暗号化\n",
        "encrypted_message = public_key.encrypt(\n",
        "    message,\n",
        "    padding.OAEP(\n",
        "        mgf=padding.MGF1(algorithm=hashes.SHA256()),\n",
        "        algorithm=hashes.SHA256(),\n",
        "        label=None\n",
        "    )\n",
        ")\n",
        "\n",
        "# 秘密鍵を使って暗号化されたメッセージを復号化\n",
        "decrypted_message = private_key.decrypt(\n",
        "    encrypted_message,\n",
        "    padding.OAEP(\n",
        "        mgf=padding.MGF1(algorithm=hashes.SHA256()),\n",
        "        algorithm=hashes.SHA256(),\n",
        "        label=None\n",
        "    )\n",
        ")\n",
        "\n",
        "# 復号化されたメッセージをデコード\n",
        "decrypted_message = decrypted_message.decode('utf-8')\n",
        "\n",
        "print(\"元のメッセージ:\", message.decode('utf-8'))\n",
        "print(\"暗号化されたメッセージ:\", encrypted_message)\n",
        "print(\"復号化されたメッセージ:\", decrypted_message)\n"
      ],
      "metadata": {
        "id": "6qNs4vwYbD63",
        "outputId": "697d3b01-d089-41fd-faf9-257f4b55eee4",
        "colab": {
          "base_uri": "https://localhost:8080/"
        }
      },
      "execution_count": 14,
      "outputs": [
        {
          "output_type": "stream",
          "name": "stdout",
          "text": [
            "元のメッセージ: これは秘密のメッセージです\n",
            "暗号化されたメッセージ: b\"\\x9f|Y\\xb4\\xd8\\xcfq\\xdfu\\xd8\\xc6\\xbe\\xd7\\x05\\x1d\\n4v\\x8a\\x9e\\x1c\\xb1]9.L\\xa9\\x867\\xe5\\x1c\\x03\\xc8\\xb3\\xcan\\xe4!\\xa1-\\xaa\\n\\xef\\x14?j)\\x8d\\xd3\\x90\\x1d\\xe6\\xb1\\xa0\\x15\\x98\\xbbQ\\x14Rf\\xb8\\x86\\xe1\\xc2e\\xbf\\xc5U\\x0c\\x1e\\xa9\\x1a\\x99X\\xf8\\xb1\\x9f&\\xe0d\\xacWJI\\xeee\\xc8\\x05\\xcd\\xa0\\x1dW\\xcf\\x1a\\xbf>\\xaa\\xdc\\\\\\xe1/\\xefw\\xa9)\\xde\\xbe\\xe3\\x17\\x94\\x00\\x15\\xac\\xe5\\x12\\xcc\\xf0\\x97\\x1a\\x12W\\xe2o\\x954\\x19\\x01\\xdf\\xe2\\x10\\xc3J\\x8a\\x9f\\x9b\\xb9\\xb4\\x9c\\xe4\\xb5aJ\\x8d\\x8b\\x9c\\xa6\\x9b\\x7fBd\\xed\\xa2d\\x01X,\\x19\\x1b\\xe3\\xb4\\xf57N?\\xf8\\xadex\\x1bx\\xf0(\\xd55(\\x1d\\x84\\xaag\\xaf\\xcb\\xc5\\xd0NQL#_\\xe3\\x8a\\x04\\xcc\\x16\\x92\\na;\\xe9\\xc9K}ak\\x0eC\\xf6\\xc2Y\\x81\\x91\\x9dz\\xeaTHh\\xef\\xdc<\\xd20\\x81\\x1a\\xb4\\xaa\\x17\\x95\\xa6b\\xee\\xe0'e\\x82\\x10\\x82\\xd3\\x9f\\x8a\\x1cG=\\xc2\\x91\\xd7`R\\x9b5V\\xa0\\xf8\\xcf\\xb1\\x15\"\n",
            "復号化されたメッセージ: これは秘密のメッセージです\n"
          ]
        }
      ]
    }
  ]
}