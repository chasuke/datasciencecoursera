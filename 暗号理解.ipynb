{
  "nbformat": 4,
  "nbformat_minor": 0,
  "metadata": {
    "colab": {
      "provenance": [],
      "authorship_tag": "ABX9TyOTOWHR+HCMgoHtLOBhxRUE",
      "include_colab_link": true
    },
    "kernelspec": {
      "name": "python3",
      "display_name": "Python 3"
    },
    "language_info": {
      "name": "python"
    }
  },
  "cells": [
    {
      "cell_type": "markdown",
      "metadata": {
        "id": "view-in-github",
        "colab_type": "text"
      },
      "source": [
        "<a href=\"https://colab.research.google.com/github/chasuke/datasciencecoursera/blob/master/%E6%9A%97%E5%8F%B7%E7%90%86%E8%A7%A3.ipynb\" target=\"_parent\"><img src=\"https://colab.research.google.com/assets/colab-badge.svg\" alt=\"Open In Colab\"/></a>"
      ]
    },
    {
      "cell_type": "markdown",
      "source": [
        "ローマ字をシーザー暗号で、変換、元に戻すプログラム"
      ],
      "metadata": {
        "id": "tM3zm5lFY6W3"
      }
    },
    {
      "cell_type": "code",
      "execution_count": null,
      "metadata": {
        "colab": {
          "base_uri": "https://localhost:8080/"
        },
        "id": "V1yHwWTJYL23",
        "outputId": "bd199abd-044c-4d3b-a464-7497d1e1a77e"
      },
      "outputs": [
        {
          "output_type": "execute_result",
          "data": {
            "text/plain": [
              "('Hello, World! Good morning!',\n",
              " 'Mjqqt, Btwqi! Ltti rtwsnsl!',\n",
              " 'Hello, World! Good morning!')"
            ]
          },
          "metadata": {},
          "execution_count": 11
        }
      ],
      "source": [
        "def caesar_cipher(text, shift):\n",
        "    result = \"\"\n",
        "\n",
        "    for char in text:\n",
        "        if char.isalpha():  # Check if character is an alphabet\n",
        "            # Shift character and wrap around if necessary\n",
        "            shifted = ord(char) + shift\n",
        "            if char.islower():\n",
        "                if shifted > ord('z'):\n",
        "                    shifted -= 26\n",
        "                elif shifted < ord('a'):\n",
        "                    shifted += 26\n",
        "            elif char.isupper():\n",
        "                if shifted > ord('Z'):\n",
        "                    shifted -= 26\n",
        "                elif shifted < ord('A'):\n",
        "                    shifted += 26\n",
        "\n",
        "            result += chr(shifted)\n",
        "        else:\n",
        "            # Add the character as it is (for spaces, punctuation, etc.)\n",
        "            result += char\n",
        "\n",
        "    return result\n",
        "\n",
        "# Example usage of the caesar_cipher function\n",
        "example_text = \"Hello, World! Good morning!\"\n",
        "shift_amount = 5\n",
        "encrypted_text = caesar_cipher(example_text, shift_amount)\n",
        "decrypted_text = caesar_cipher(encrypted_text, -shift_amount)\n",
        "\n",
        "example_text, encrypted_text, decrypted_text\n"
      ]
    },
    {
      "cell_type": "markdown",
      "source": [
        "ひらがなの入力の文字をずらして、もとにもどす。シーザー暗号"
      ],
      "metadata": {
        "id": "1i86UwyIZGgO"
      }
    },
    {
      "cell_type": "code",
      "source": [
        "def caesar_cipher_japanese(text, shift):\n",
        "    hiragana = 'あいうえおかきくけこさしすせそたちつてとなにぬねのはひふへほまみむめもやゆよらりるれろわをん'\n",
        "    result = \"\"\n",
        "\n",
        "    for char in text:\n",
        "        if char in hiragana:\n",
        "            # Find the index of the character in the hiragana string\n",
        "            index = hiragana.index(char)\n",
        "            # Shift the character and wrap around if necessary\n",
        "            shifted_index = (index + shift) % len(hiragana)\n",
        "            # Append the shifted character to the result\n",
        "            result += hiragana[shifted_index]\n",
        "        else:\n",
        "            # Add the character as it is (for kanji, punctuation, etc.)\n",
        "            result += char\n",
        "\n",
        "    return result\n",
        "\n",
        "# Example usage of the function\n",
        "example_text_jp = \"こんにちは\"\n",
        "shift_amount_jp = 1\n",
        "encrypted_text_jp = caesar_cipher_japanese(example_text_jp, shift_amount_jp)\n",
        "decrypted_text_jp = caesar_cipher_japanese(encrypted_text_jp, -shift_amount_jp)\n",
        "\n",
        "example_text_jp, encrypted_text_jp, decrypted_text_jp\n"
      ],
      "metadata": {
        "colab": {
          "base_uri": "https://localhost:8080/"
        },
        "id": "EHRs0ebFZR_N",
        "outputId": "6734587b-d724-4ecd-ea79-5d3881ed198d"
      },
      "execution_count": null,
      "outputs": [
        {
          "output_type": "execute_result",
          "data": {
            "text/plain": [
              "('こんにちは', 'さあぬつひ', 'こんにちは')"
            ]
          },
          "metadata": {},
          "execution_count": 12
        }
      ]
    },
    {
      "cell_type": "markdown",
      "source": [
        "公開鍵暗号方式を使う"
      ],
      "metadata": {
        "id": "jesrsVEhafX8"
      }
    },
    {
      "cell_type": "code",
      "source": [
        "!pip install cryptography"
      ],
      "metadata": {
        "colab": {
          "base_uri": "https://localhost:8080/"
        },
        "id": "2nBq_F-EalzO",
        "outputId": "6794ed7e-bac9-42de-8429-9cf9fb889ab2"
      },
      "execution_count": null,
      "outputs": [
        {
          "output_type": "stream",
          "name": "stdout",
          "text": [
            "Requirement already satisfied: cryptography in /usr/local/lib/python3.10/dist-packages (41.0.7)\n",
            "Requirement already satisfied: cffi>=1.12 in /usr/local/lib/python3.10/dist-packages (from cryptography) (1.16.0)\n",
            "Requirement already satisfied: pycparser in /usr/local/lib/python3.10/dist-packages (from cffi>=1.12->cryptography) (2.21)\n"
          ]
        }
      ]
    },
    {
      "cell_type": "code",
      "source": [
        "from cryptography.hazmat.backends import default_backend\n",
        "from cryptography.hazmat.primitives.asymmetric import rsa\n",
        "from cryptography.hazmat.primitives import serialization\n",
        "from cryptography.hazmat.primitives.asymmetric import padding\n",
        "from cryptography.hazmat.primitives import hashes\n",
        "\n",
        "# 公開鍵と秘密鍵のペアを生成\n",
        "# 秘密鍵を生成\n",
        "private_key = rsa.generate_private_key(\n",
        "    public_exponent=65537,\n",
        "    key_size=2048,\n",
        "    backend=default_backend()\n",
        ")\n",
        "# 公開鍵を生成\n",
        "public_key = private_key.public_key()\n",
        "\n",
        "# メッセージのエンコード\n",
        "message = \"これは秘密のメッセージです。ほかの人には教えたくない大切な人へのメッセージ\".encode('utf-8')\n",
        "\n",
        "# 公開鍵を使ってメッセージを暗号化\n",
        "encrypted_message = public_key.encrypt(\n",
        "    message,\n",
        "    padding.OAEP(\n",
        "        mgf=padding.MGF1(algorithm=hashes.SHA256()),\n",
        "        algorithm=hashes.SHA256(),\n",
        "        label=None\n",
        "    )\n",
        ")\n",
        "\n",
        "# 秘密鍵を使って暗号化されたメッセージを復号化\n",
        "decrypted_message = private_key.decrypt(\n",
        "    encrypted_message,\n",
        "    padding.OAEP(\n",
        "        mgf=padding.MGF1(algorithm=hashes.SHA256()),\n",
        "        algorithm=hashes.SHA256(),\n",
        "        label=None\n",
        "    )\n",
        ")\n",
        "\n",
        "# 復号化されたメッセージをデコード\n",
        "decrypted_message = decrypted_message.decode('utf-8')\n",
        "\n",
        "print(\"元のメッセージ:\", message.decode('utf-8'))\n",
        "print(\"暗号化されたメッセージ:\", encrypted_message)\n",
        "print(\"復号化されたメッセージ:\", decrypted_message)\n"
      ],
      "metadata": {
        "id": "6qNs4vwYbD63",
        "outputId": "24b263d8-55af-40f6-ab60-5dcf74273cb1",
        "colab": {
          "base_uri": "https://localhost:8080/"
        }
      },
      "execution_count": 15,
      "outputs": [
        {
          "output_type": "stream",
          "name": "stdout",
          "text": [
            "元のメッセージ: これは秘密のメッセージです。ほかの人には教えたくない大切な人へのメッセージ\n",
            "暗号化されたメッセージ: b\"I\\xf2=a\\x00dYt\\xa1I\\x03\\x91\\x10\\xb3=\\xb7\\xa8\\n\\x0c\\x17wu\\xe2V\\x8f\\x11\\xe0\\xe0\\xdd'\\x97%\\xa4%\\xeeg\\xe10\\xb0d\\xbd\\xc1n\\x82\\xf6\\\\\\x7f=6\\r\\xe8e\\xaf\\x850?'\\x9b\\x1e,\\xa7\\x03\\x9e\\xc8>z\\xa2\\xea6,\\xc7t\\xee\\xf4\\x84\\xa0\\x16\\x8b\\xeaF\\xaa\\x14\\x9c\\xad\\xbd\\xa8=\\xfaz\\xe1\\x13}4\\x03\\x87\\x80\\\\\\xec\\t+\\x82&\\xb1\\xfb\\xe4\\xa1\\x13T\\xcfcF\\x8e\\x0e\\x04]\\xd0\\xb5\\xae\\xe9\\xd9\\xfec\\xdb\\x88\\x93\\xa8\\xe8\\xc55\\xf4\\xeex\\x11\\xf3\\x0fb\\x0e\\xd2S\\xa3\\xbb\\x94\\xe5B+0\\xbbD\\xfb\\xe2\\x06\\x04\\x94\\xa4=\\xe59K\\xf8\\n\\xe4N\\x95\\xb8\\xc4#\\xcfo\\x0b\\xd7\\xe1\\x99\\xc8(\\xbd\\xc8(\\xb0PZ\\xdd\\xce\\xd2\\xa7\\xac\\xd7\\x88\\xb7\\x8e\\xfcc\\x98U{6\\x9c\\x9e\\xb7\\x14\\xad\\xc4b\\xa4Q\\xc5z\\xe7\\xbaG\\xdaL\\xfe\\xea\\x9c\\xe6Z=\\x84\\x93p\\xda(JT\\xe6\\x15\\x90f5T\\\\a\\xcc\\x7fD\\x91o~\\xb7\\x96\\xf0x\\x10\\xd4BOc\\\\\\xba\\x12\\x18N\\xa3?0\\xfa\"\n",
            "復号化されたメッセージ: これは秘密のメッセージです。ほかの人には教えたくない大切な人へのメッセージ\n"
          ]
        }
      ]
    },
    {
      "cell_type": "code",
      "source": [
        "print(\"元のメッセージ:\", message.decode('utf-8'))"
      ],
      "metadata": {
        "colab": {
          "base_uri": "https://localhost:8080/"
        },
        "id": "SX8X1UKtiwYS",
        "outputId": "84e7e315-c985-4505-c859-a55085640ab5"
      },
      "execution_count": 16,
      "outputs": [
        {
          "output_type": "stream",
          "name": "stdout",
          "text": [
            "元のメッセージ: これは秘密のメッセージです。ほかの人には教えたくない大切な人へのメッセージ\n"
          ]
        }
      ]
    },
    {
      "cell_type": "code",
      "source": [
        "print(\"暗号化されたメッセージ:\", encrypted_message)"
      ],
      "metadata": {
        "id": "SwO1bpt8i1GJ",
        "outputId": "6d7a862d-d297-446a-bf5d-04bbb9ad3eb1",
        "colab": {
          "base_uri": "https://localhost:8080/"
        }
      },
      "execution_count": 17,
      "outputs": [
        {
          "output_type": "stream",
          "name": "stdout",
          "text": [
            "暗号化されたメッセージ: b\"I\\xf2=a\\x00dYt\\xa1I\\x03\\x91\\x10\\xb3=\\xb7\\xa8\\n\\x0c\\x17wu\\xe2V\\x8f\\x11\\xe0\\xe0\\xdd'\\x97%\\xa4%\\xeeg\\xe10\\xb0d\\xbd\\xc1n\\x82\\xf6\\\\\\x7f=6\\r\\xe8e\\xaf\\x850?'\\x9b\\x1e,\\xa7\\x03\\x9e\\xc8>z\\xa2\\xea6,\\xc7t\\xee\\xf4\\x84\\xa0\\x16\\x8b\\xeaF\\xaa\\x14\\x9c\\xad\\xbd\\xa8=\\xfaz\\xe1\\x13}4\\x03\\x87\\x80\\\\\\xec\\t+\\x82&\\xb1\\xfb\\xe4\\xa1\\x13T\\xcfcF\\x8e\\x0e\\x04]\\xd0\\xb5\\xae\\xe9\\xd9\\xfec\\xdb\\x88\\x93\\xa8\\xe8\\xc55\\xf4\\xeex\\x11\\xf3\\x0fb\\x0e\\xd2S\\xa3\\xbb\\x94\\xe5B+0\\xbbD\\xfb\\xe2\\x06\\x04\\x94\\xa4=\\xe59K\\xf8\\n\\xe4N\\x95\\xb8\\xc4#\\xcfo\\x0b\\xd7\\xe1\\x99\\xc8(\\xbd\\xc8(\\xb0PZ\\xdd\\xce\\xd2\\xa7\\xac\\xd7\\x88\\xb7\\x8e\\xfcc\\x98U{6\\x9c\\x9e\\xb7\\x14\\xad\\xc4b\\xa4Q\\xc5z\\xe7\\xbaG\\xdaL\\xfe\\xea\\x9c\\xe6Z=\\x84\\x93p\\xda(JT\\xe6\\x15\\x90f5T\\\\a\\xcc\\x7fD\\x91o~\\xb7\\x96\\xf0x\\x10\\xd4BOc\\\\\\xba\\x12\\x18N\\xa3?0\\xfa\"\n"
          ]
        }
      ]
    },
    {
      "cell_type": "code",
      "source": [
        "print(\"復号化されたメッセージ:\", decrypted_message)"
      ],
      "metadata": {
        "id": "Cjx_zXRti3XK",
        "outputId": "aa1e5dc1-9f3a-4c4b-c608-ad1bfcde6dde",
        "colab": {
          "base_uri": "https://localhost:8080/"
        }
      },
      "execution_count": 18,
      "outputs": [
        {
          "output_type": "stream",
          "name": "stdout",
          "text": [
            "復号化されたメッセージ: これは秘密のメッセージです。ほかの人には教えたくない大切な人へのメッセージ\n"
          ]
        }
      ]
    }
  ]
}